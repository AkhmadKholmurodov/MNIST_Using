{
  "nbformat": 4,
  "nbformat_minor": 0,
  "metadata": {
    "colab": {
      "provenance": []
    },
    "kernelspec": {
      "name": "python3",
      "display_name": "Python 3"
    },
    "language_info": {
      "name": "python"
    }
  },
  "cells": [
    {
      "cell_type": "code",
      "execution_count": null,
      "metadata": {
        "colab": {
          "base_uri": "https://localhost:8080/"
        },
        "id": "pEkUHwMyppoT",
        "outputId": "f54ab8ae-658f-4241-fd3b-a1c62a094952"
      },
      "outputs": [
        {
          "output_type": "stream",
          "name": "stdout",
          "text": [
            "Mounted at /content/gdrive\n"
          ]
        }
      ],
      "source": [
        "import torch\n",
        "import torch.nn as nn\n",
        "from torch.utils.data import Dataset\n",
        "import h5py\n",
        "import pandas, numpy, random\n",
        "import matplotlib.pyplot as plt\n",
        "from google.colab import drive\n",
        "\n",
        "drive.mount('/content/gdrive')\n",
        "\n"
      ]
    },
    {
      "cell_type": "code",
      "source": [
        "if torch.cuda.is_available():\n",
        "    torch.set_default_tensor_type(torch.cuda.FloatTensor)\n",
        "    print(\"using cuda:\", torch.cuda.get_device_name(0))\n",
        "pass\n",
        "\n",
        "device = torch.device(\"cuda\" if torch.cuda.is_available() else \"cpu\")\n",
        "device\n"
      ],
      "metadata": {
        "id": "_2BbXOwuxKa1"
      },
      "execution_count": null,
      "outputs": []
    },
    {
      "cell_type": "code",
      "source": [
        "\n",
        " def generate_random_image(size):\n",
        "  random_data = torch.rand(size)\n",
        "  return random_data\n",
        "def generate_random_seed( size):\n",
        "  random_data = torch.randn(size)\n",
        "  return random_data\n"
      ],
      "metadata": {
        "id": "BMbW4QaptDVh"
      },
      "execution_count": null,
      "outputs": []
    },
    {
      "cell_type": "code",
      "source": [
        "# modified from https://github.com/pytorch/vision/ issues/720\n",
        "class View(nn. Module):\n",
        "  def _init_(self, shape):\n",
        "    super().__init__()\n",
        "    self.shape = shape,\n",
        "  def forward (self, x):\n",
        "    return x.view(+self.shape)\n"
      ],
      "metadata": {
        "id": "woeDONbDuHHw"
      },
      "execution_count": null,
      "outputs": []
    },
    {
      "cell_type": "code",
      "source": [
        "# crop (numpy array) image to given width and height\n",
        "def crop_centre(img, new_width, new_height):\n",
        "  height, width, _ = img.shape\n",
        "  startx = width//2 - new_width//2\n",
        "  starty = height//2 - new_height//2\n",
        "  return img[starty:starty + new_height, start:start + new_width, :]\" fix context errors\n"
      ],
      "metadata": {
        "id": "m8Y74TzruqDd"
      },
      "execution_count": null,
      "outputs": []
    },
    {
      "cell_type": "code",
      "source": [
        "class CelebADataset (Dataset):\n",
        "  def init__(self, file):\n",
        "    self.file_object = h5py.File(file, 'r')\n",
        "    self.dataset = self.file_obiect['ing_align_celeba']\n",
        "    pass\n",
        "  def _len__(self):\n",
        "    return len(self. dataset)\n",
        "  def _getitem__(self, index):\n",
        "    if (index >= len(self.dataset)):\n",
        "      raise IndexError()\n",
        "    img = numpy.array(self.dataset [str(index)+'jpg'])\n",
        "  # crop to 128x128 square\n",
        "    img = crop_centre(img, 128, 128)\n",
        "    return torch. cuda. Float Tensor (img). permute(2,0,1). view(1,3, 128, 128) / 255.0\n",
        "  def plot_image(self, index):\n",
        "    img = numpy.array(self.dataset [str(index)+'jpg'])\n",
        "# crop to 128x128 square\n",
        "    img = crop_centre(img, 128, 128)\n",
        "    plt. imshow(img, interpolation='nearest ')\n",
        "    pass\n",
        "  pass\n"
      ],
      "metadata": {
        "colab": {
          "base_uri": "https://localhost:8080/",
          "height": 106
        },
        "id": "cQdSmL55vKJC",
        "outputId": "fb0c0c3a-70a7-4028-fb81-37d0721e4fd7"
      },
      "execution_count": null,
      "outputs": [
        {
          "output_type": "error",
          "ename": "SyntaxError",
          "evalue": "invalid syntax (<ipython-input-1-661016723758>, line 14)",
          "traceback": [
            "\u001b[0;36m  File \u001b[0;32m\"<ipython-input-1-661016723758>\"\u001b[0;36m, line \u001b[0;32m14\u001b[0m\n\u001b[0;31m    return torch. cuda. Float Tensor (img). permute(2,0,1). view(1,3, 128, 128) / 255.0\u001b[0m\n\u001b[0m                              ^\u001b[0m\n\u001b[0;31mSyntaxError\u001b[0m\u001b[0;31m:\u001b[0m invalid syntax\n"
          ]
        }
      ]
    },
    {
      "cell_type": "code",
      "source": [
        "# create Dataset object\n",
        "celeba_dataset = CelebADataset ('/content/drive/MyDrive/GAN2/9|/celeba_dataset/celeba_aligned_smalI.h5py')\n"
      ],
      "metadata": {
        "id": "Vilcllm1wu15"
      },
      "execution_count": null,
      "outputs": []
    },
    {
      "cell_type": "code",
      "source": [
        "celeba_dataset.plot_image(43)\n"
      ],
      "metadata": {
        "colab": {
          "base_uri": "https://localhost:8080/",
          "height": 141
        },
        "id": "g40LJV4-w2FJ",
        "outputId": "fa72ca7c-dafe-41cc-d806-372581874e60"
      },
      "execution_count": null,
      "outputs": [
        {
          "output_type": "error",
          "ename": "NameError",
          "evalue": "name 'celeba_dataset' is not defined",
          "traceback": [
            "\u001b[0;31m---------------------------------------------------------------------------\u001b[0m",
            "\u001b[0;31mNameError\u001b[0m                                 Traceback (most recent call last)",
            "\u001b[0;32m<ipython-input-2-8244a7e9244a>\u001b[0m in \u001b[0;36m<cell line: 1>\u001b[0;34m()\u001b[0m\n\u001b[0;32m----> 1\u001b[0;31m \u001b[0mceleba_dataset\u001b[0m\u001b[0;34m.\u001b[0m\u001b[0mplot_image\u001b[0m\u001b[0;34m(\u001b[0m\u001b[0;36m43\u001b[0m\u001b[0;34m)\u001b[0m\u001b[0;34m\u001b[0m\u001b[0;34m\u001b[0m\u001b[0m\n\u001b[0m",
            "\u001b[0;31mNameError\u001b[0m: name 'celeba_dataset' is not defined"
          ]
        }
      ]
    },
    {
      "cell_type": "code",
      "source": [
        "import torch\n",
        "import torch.nn as nn\n",
        "from torch.utils.data import Dataset\n",
        "import h5py\n",
        "import pandas as pd\n",
        "import numpy as np\n",
        "import random\n",
        "import matplotlib.pyplot as plt\n",
        "from google.colab import drive\n",
        "\n",
        "drive.mount('/content/drive')\n",
        "\n",
        "\n",
        "if torch.cuda.is_available():\n",
        "    torch.set_default_tensor_type(torch.cuda.FloatTensor)\n",
        "    print(\"using cuda:\", torch.cuda.get_device_name(0))\n",
        "\n",
        "device = torch.device(\"cuda\" if torch.cuda.is_available() else \"cpu\")\n",
        "\n",
        "\n",
        "def generate_random_image(size):\n",
        "    random_data = torch.rand(size)\n",
        "    return random_data\n",
        "\n",
        "\n",
        "def generate_random_seed(size):\n",
        "    random_data = torch.randn(size)\n",
        "    return random_data\n",
        "\n",
        "\n",
        "class View(nn.Module):\n",
        "    def __init__(self, shape):\n",
        "        super(View, self).__init__()\n",
        "        self.shape = shape\n",
        "\n",
        "    def forward(self, x):\n",
        "        return x.view(-1, *self.shape)\n",
        "\n",
        "\n",
        "def crop_center(img, new_width, new_height):\n",
        "    height, width, _ = img.shape\n",
        "    startx = width // 2 - new_width // 2\n",
        "    starty = height // 2 - new_height // 2\n",
        "    return img[starty : starty + new_height, startx : startx + new_width, :]\n",
        "\n",
        "\n",
        "class CelebADataset(Dataset):\n",
        "    def __init__(self, file):\n",
        "        self.file = file\n",
        "        self.h5_file = h5py.File(self.file, \"r\")\n",
        "        self.dataset = self.h5_file[\"img_align_celeba\"]\n",
        "\n",
        "    def __len__(self):\n",
        "        return len(self.dataset)\n",
        "\n",
        "    def __getitem__(self, index):\n",
        "        if index >= len(self.dataset):\n",
        "            raise IndexError()\n",
        "\n",
        "\n",
        "        img = np.array(self.dataset[str(index) + \" jpg\"])\n",
        "        img = crop_center(img, 128, 128)\n",
        "\n",
        "        tensor = torch.FloatTensor(img).permute(2, 0, 1).view(1, 3, 128, 128)\n",
        "        if device == \"cuda\":\n",
        "            tensor = tensor.to(device)\n",
        "        return tensor / 255.0\n",
        "\n",
        "    def __del__(self):\n",
        "\n",
        "        self.h5_file.close()\n",
        "\n",
        "    def plot_image(self, index):\n",
        "        img = np.array(self.dataset[str(index) + \" jpg\"])\n",
        "        img = crop_center(img, 128, 128)\n",
        "        plt.imshow(img, interpolation=\"nearest\")\n",
        "        plt.show()\n",
        "\n",
        "\n",
        "\n"
      ],
      "metadata": {
        "colab": {
          "base_uri": "https://localhost:8080/"
        },
        "id": "sIDNsPbax6BC",
        "outputId": "e2a78346-e446-4871-8795-322f8dd7bfd5"
      },
      "execution_count": null,
      "outputs": [
        {
          "output_type": "stream",
          "name": "stdout",
          "text": [
            "Mounted at /content/drive\n"
          ]
        }
      ]
    },
    {
      "cell_type": "code",
      "source": [],
      "metadata": {
        "id": "cUi7EOYUx3qj"
      },
      "execution_count": null,
      "outputs": []
    }
  ]
}